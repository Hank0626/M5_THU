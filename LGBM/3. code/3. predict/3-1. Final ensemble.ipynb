{
 "cells": [
  {
   "cell_type": "markdown",
   "metadata": {},
   "source": [
    "## Please input your directory for the top level folder\n",
    "folder name : SUBMISSION MODEL"
   ]
  },
  {
   "cell_type": "code",
   "execution_count": null,
   "metadata": {},
   "outputs": [],
   "source": [
    "dir_ = 'C:/Users/yeonjun.in/Desktop/SUBMISSION MODEL/' # input only here"
   ]
  },
  {
   "cell_type": "markdown",
   "metadata": {},
   "source": [
    "#### setting other directory"
   ]
  },
  {
   "cell_type": "code",
   "execution_count": null,
   "metadata": {},
   "outputs": [],
   "source": [
    "raw_data_dir = dir_+'2. data/'\n",
    "processed_data_dir = dir_+'2. data/processed/'\n",
    "log_dir = dir_+'4. logs/'\n",
    "model_dir = dir_+'5. models/'\n",
    "submission_dir = dir_+'6. submissions/'"
   ]
  },
  {
   "cell_type": "code",
   "execution_count": null,
   "metadata": {},
   "outputs": [],
   "source": [
    "import pandas as pd"
   ]
  },
  {
   "cell_type": "code",
   "execution_count": null,
   "metadata": {},
   "outputs": [],
   "source": [
    "submission = pd.read_csv(raw_data_dir+'sample_submission.csv')\n",
    "ids = pd.DataFrame({'id':submission.iloc[30490:]['id']})"
   ]
  },
  {
   "cell_type": "code",
   "execution_count": null,
   "metadata": {},
   "outputs": [],
   "source": [
    "sub1= pd.read_csv(submission_dir+'before_ensemble/submission_kaggle_recursive_store.csv')\n",
    "sub2= pd.read_csv(submission_dir+'before_ensemble/submission_kaggle_recursive_store_cat.csv')\n",
    "sub3= pd.read_csv(submission_dir+'before_ensemble/submission_kaggle_recursive_store_dept.csv')\n",
    "\n",
    "sub4= pd.read_csv(submission_dir+'before_ensemble/submission_kaggle_nonrecursive_store.csv')\n",
    "sub5= pd.read_csv(submission_dir+'before_ensemble/submission_kaggle_nonrecursive_store_cat.csv')\n",
    "sub6= pd.read_csv(submission_dir+'before_ensemble/submission_kaggle_nonrecursive_store_dept.csv')"
   ]
  },
  {
   "cell_type": "code",
   "execution_count": null,
   "metadata": {},
   "outputs": [],
   "source": [
    "sub1 = ids.merge(sub1, on='id', how='left').set_index('id')\n",
    "sub2 = ids.merge(sub2, on='id', how='left').set_index('id')\n",
    "sub3 = ids.merge(sub3, on='id', how='left').set_index('id')\n",
    "\n",
    "sub4 = ids.merge(sub4, on='id', how='left').set_index('id')\n",
    "sub5 = ids.merge(sub5, on='id', how='left').set_index('id')\n",
    "sub6 = ids.merge(sub6, on='id', how='left').set_index('id')"
   ]
  },
  {
   "cell_type": "code",
   "execution_count": null,
   "metadata": {},
   "outputs": [],
   "source": [
    "final_sub = (sub1 + sub2 + sub3 + sub4 + sub5 + sub6 )/6"
   ]
  },
  {
   "cell_type": "code",
   "execution_count": null,
   "metadata": {},
   "outputs": [],
   "source": [
    "final_sub.to_csv(submission_dir+'submission_final.csv')"
   ]
  },
  {
   "cell_type": "code",
   "execution_count": null,
   "metadata": {},
   "outputs": [],
   "source": [
    "final_sub"
   ]
  }
 ],
 "metadata": {
  "hide_input": false,
  "kernelspec": {
   "display_name": "Python 3",
   "language": "python",
   "name": "python3"
  },
  "language_info": {
   "codemirror_mode": {
    "name": "ipython",
    "version": 3
   },
   "file_extension": ".py",
   "mimetype": "text/x-python",
   "name": "python",
   "nbconvert_exporter": "python",
   "pygments_lexer": "ipython3",
   "version": "3.7.3"
  }
 },
 "nbformat": 4,
 "nbformat_minor": 2
}
